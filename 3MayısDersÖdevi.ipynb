{
  "nbformat": 4,
  "nbformat_minor": 0,
  "metadata": {
    "colab": {
      "provenance": [],
      "authorship_tag": "ABX9TyOYy6ZGnOSWg5dopTBObHGx",
      "include_colab_link": true
    },
    "kernelspec": {
      "name": "python3",
      "display_name": "Python 3"
    },
    "language_info": {
      "name": "python"
    }
  },
  "cells": [
    {
      "cell_type": "markdown",
      "metadata": {
        "id": "view-in-github",
        "colab_type": "text"
      },
      "source": [
        "<a href=\"https://colab.research.google.com/github/ilayyd/HomeWork/blob/main/3May%C4%B1sDers%C3%96devi.ipynb\" target=\"_parent\"><img src=\"https://colab.research.google.com/assets/colab-badge.svg\" alt=\"Open In Colab\"/></a>"
      ]
    },
    {
      "cell_type": "markdown",
      "source": [
        "TASK1"
      ],
      "metadata": {
        "id": "f769LTGmyKe0"
      }
    },
    {
      "cell_type": "code",
      "source": [
        "number = int(input())\n",
        "if number > 0:\n",
        "  print(\"Pozitif\")\n",
        "elif number < 0:\n",
        "  print(\"Negatif\")\n",
        "else:\n",
        "  print(\"Sıfır\")"
      ],
      "metadata": {
        "colab": {
          "base_uri": "https://localhost:8080/"
        },
        "id": "JiCSkxECyR-3",
        "outputId": "e17858e1-cebe-4ec4-f895-ac5ae945e931"
      },
      "execution_count": null,
      "outputs": [
        {
          "output_type": "stream",
          "name": "stdout",
          "text": [
            "0\n",
            "Sıfır\n"
          ]
        }
      ]
    },
    {
      "cell_type": "markdown",
      "source": [],
      "metadata": {
        "id": "Sx9GmkgpyJTx"
      }
    },
    {
      "cell_type": "markdown",
      "source": [
        "TASK2"
      ],
      "metadata": {
        "id": "H1l459nFzCay"
      }
    },
    {
      "cell_type": "code",
      "source": [
        "number = int(input())\n",
        "if number%2==1:\n",
        "  print(\"Tek\")\n",
        "else:\n",
        "  print(\"Çift\")"
      ],
      "metadata": {
        "colab": {
          "base_uri": "https://localhost:8080/"
        },
        "id": "1-08kCEIzD3r",
        "outputId": "3cc1fe9e-2152-4a14-fd8a-e779da2fb19b"
      },
      "execution_count": null,
      "outputs": [
        {
          "output_type": "stream",
          "name": "stdout",
          "text": [
            "2\n",
            "Çift\n"
          ]
        }
      ]
    },
    {
      "cell_type": "markdown",
      "source": [
        "TASK3"
      ],
      "metadata": {
        "id": "b-ZCWhIQzTD7"
      }
    },
    {
      "cell_type": "code",
      "source": [
        "note = int(input())\n",
        "if 80 < note <= 100:\n",
        "  print(\"A\")\n",
        "elif 60 < note <= 80:\n",
        "  print(\"B\")\n",
        "elif 40 < note <= 60:\n",
        "  print(\"C\")\n",
        "elif 20 < note <= 40:\n",
        "  print(\"D\")\n",
        "elif 0 <= note <= 20:\n",
        "  print(\"E\")"
      ],
      "metadata": {
        "colab": {
          "base_uri": "https://localhost:8080/"
        },
        "id": "Zx-n4FTdzUWV",
        "outputId": "18d9f8c2-0517-49f7-b70a-670419618ff7"
      },
      "execution_count": null,
      "outputs": [
        {
          "output_type": "stream",
          "name": "stdout",
          "text": [
            "80\n",
            "B\n"
          ]
        }
      ]
    },
    {
      "cell_type": "markdown",
      "source": [
        "TASK4"
      ],
      "metadata": {
        "id": "8wd_s1kI0EhX"
      }
    },
    {
      "cell_type": "code",
      "source": [
        "name = input()\n",
        "if len(name)>5:\n",
        "  print(\"uzun bir isminiz var\")\n",
        "else:\n",
        "  print(name)"
      ],
      "metadata": {
        "colab": {
          "base_uri": "https://localhost:8080/"
        },
        "id": "4OiBav1d0Fyd",
        "outputId": "6c54fe73-112d-422e-8c92-afe8125227de"
      },
      "execution_count": null,
      "outputs": [
        {
          "output_type": "stream",
          "name": "stdout",
          "text": [
            "kedi\n",
            "kedi\n"
          ]
        }
      ]
    },
    {
      "cell_type": "markdown",
      "source": [
        "TASK5"
      ],
      "metadata": {
        "id": "HWwPdZs50Tb0"
      }
    },
    {
      "cell_type": "code",
      "source": [
        "sayi=int(input())\n",
        "if sayi > 1:\n",
        "   for i in range(2,sayi):\n",
        "       if (sayi % i) == 0:\n",
        "           print(sayi,\" Asal Sayı Değildir.\")\n",
        "           break\n",
        "   else:\n",
        "       print(sayi,\" Asal Sayıdır.\")\n",
        "\n",
        "else:\n",
        "   print(sayi,\" Asal Sayı Değildir.\")"
      ],
      "metadata": {
        "id": "vZ8hLJmO0U5m"
      },
      "execution_count": null,
      "outputs": []
    },
    {
      "cell_type": "markdown",
      "source": [
        "TASK6"
      ],
      "metadata": {
        "id": "7Si-OUZF0_RA"
      }
    },
    {
      "cell_type": "code",
      "source": [
        "notlar = [45,85,75,50]\n",
        "for i in range(len(notlar)):\n",
        "    if notlar[i] == 75:\n",
        "        print(\"75 sayısının indeksi:\", i)\n",
        "        break"
      ],
      "metadata": {
        "colab": {
          "base_uri": "https://localhost:8080/"
        },
        "id": "8FJynADM1BM1",
        "outputId": "8db7a2bc-1997-404b-9296-d9778f3ce4cd"
      },
      "execution_count": null,
      "outputs": [
        {
          "output_type": "stream",
          "name": "stdout",
          "text": [
            "75 sayısının indeksi: 2\n"
          ]
        }
      ]
    },
    {
      "cell_type": "markdown",
      "source": [
        "TASK7"
      ],
      "metadata": {
        "id": "j3IpGFp11efT"
      }
    },
    {
      "cell_type": "code",
      "source": [
        "sayi = int(input())\n",
        "fact = 1\n",
        "for i in range(1,sayi+1):\n",
        "  fact*=i\n",
        "print(fact)"
      ],
      "metadata": {
        "colab": {
          "base_uri": "https://localhost:8080/"
        },
        "id": "InRu7GwN1fYT",
        "outputId": "f16c92f3-f402-490d-e409-c0d5333a4de3"
      },
      "execution_count": null,
      "outputs": [
        {
          "output_type": "stream",
          "name": "stdout",
          "text": [
            "5\n",
            "120\n"
          ]
        }
      ]
    },
    {
      "cell_type": "markdown",
      "source": [
        "TASK8"
      ],
      "metadata": {
        "id": "YOJljWqw2MXV"
      }
    },
    {
      "cell_type": "code",
      "source": [
        "for _ in range(100):\n",
        "    sayi = int(input())\n",
        "    if sayi > 0:\n",
        "        print(\"Pozitif sayı girdiniz:\", sayi)\n",
        "        break\n",
        "    else:\n",
        "        print(\"Negatif sayı girdiniz, tekrar deneyin.\")\n"
      ],
      "metadata": {
        "id": "sRsEsZGn2NsA"
      },
      "execution_count": null,
      "outputs": []
    },
    {
      "cell_type": "markdown",
      "source": [
        "TASK9"
      ],
      "metadata": {
        "id": "_vcznyie2pQ9"
      }
    },
    {
      "cell_type": "code",
      "source": [
        "def is_asal(sayi):\n",
        "    if sayi <= 1:\n",
        "        return False\n",
        "    for i in range(2, sayi):\n",
        "        if sayi % i == 0:\n",
        "            return False\n",
        "    return True\n",
        "\n",
        "sayi = int(input())\n",
        "print(is_asal(sayi))"
      ],
      "metadata": {
        "colab": {
          "base_uri": "https://localhost:8080/"
        },
        "id": "nGK2Di7D2qQl",
        "outputId": "6db8b547-e446-41a6-cc5a-05b0345ed4ff"
      },
      "execution_count": null,
      "outputs": [
        {
          "output_type": "stream",
          "name": "stdout",
          "text": [
            "2\n",
            "True\n"
          ]
        }
      ]
    },
    {
      "cell_type": "markdown",
      "source": [
        "TASK10"
      ],
      "metadata": {
        "id": "GTblRCBB3kKD"
      }
    },
    {
      "cell_type": "code",
      "source": [
        "sayi = int(input())\n",
        "print(faktoriyel(sayi))\n",
        "\n",
        "def faktoriyel(sayi):\n",
        "    fact = 1\n",
        "    for i in range(1, sayi + 1):\n",
        "        fact *= i\n",
        "    return fact"
      ],
      "metadata": {
        "colab": {
          "base_uri": "https://localhost:8080/"
        },
        "id": "cPxcXqQM3lTN",
        "outputId": "f3f3b1aa-5a99-4600-8f69-7fde951c2566"
      },
      "execution_count": null,
      "outputs": [
        {
          "output_type": "stream",
          "name": "stdout",
          "text": [
            "5\n",
            "120\n"
          ]
        }
      ]
    }
  ]
}