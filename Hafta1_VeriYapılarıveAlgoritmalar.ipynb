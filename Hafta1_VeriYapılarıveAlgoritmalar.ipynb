{
  "nbformat": 4,
  "nbformat_minor": 0,
  "metadata": {
    "colab": {
      "provenance": [],
      "authorship_tag": "ABX9TyOe4PJ9KaUSrwaxn6k7pxtH",
      "include_colab_link": true
    },
    "kernelspec": {
      "name": "python3",
      "display_name": "Python 3"
    },
    "language_info": {
      "name": "python"
    }
  },
  "cells": [
    {
      "cell_type": "markdown",
      "metadata": {
        "id": "view-in-github",
        "colab_type": "text"
      },
      "source": [
        "<a href=\"https://colab.research.google.com/github/ilayyd/HomeWork/blob/main/Hafta1_VeriYap%C4%B1lar%C4%B1veAlgoritmalar.ipynb\" target=\"_parent\"><img src=\"https://colab.research.google.com/assets/colab-badge.svg\" alt=\"Open In Colab\"/></a>"
      ]
    },
    {
      "cell_type": "markdown",
      "source": [
        "**Insertion Sort Projesi -Proje 1:**"
      ],
      "metadata": {
        "id": "JtTUsVbi-e-z"
      }
    },
    {
      "cell_type": "markdown",
      "source": [
        "Başlangıç: [22, 27, 16, 2, 18, 6]\n",
        "\n",
        "1. adım: 27 zaten doğru yerde\n",
        "[22, 27, 16, 2, 18, 6]\n",
        "\n",
        "2. adım: 16, 27'den küçük → sola kaydırılır\n",
        "\n",
        "[22, 16, 27, 2, 18, 6]\n",
        "\n",
        "→ sonra 16, 22'den de küçük → bir daha sola\n",
        "[16, 22, 27, 2, 18, 6]\n",
        "\n",
        "3. adım: 2 → 27, 22, 16’dan küçük → hepsi kayar\n",
        "\n",
        "[2, 16, 22, 27, 18, 6]\n",
        "\n",
        "4. adım: 18 → 27'den küçük → sola\n",
        "\n",
        "[2, 16, 22, 18, 27, 6]\n",
        "\n",
        "→ 22'den küçük → tekrar sola\n",
        "\n",
        "[2, 16, 18, 22, 27, 6]\n",
        "\n",
        "5. adım: 6 → 27, 22, 18, 16'den küçük → sola doğru hepsi kayar\n",
        "\n",
        "Sonuç: [2, 6, 16, 18, 22, 27]"
      ],
      "metadata": {
        "id": "2KO4Lwgp-6Q7"
      }
    },
    {
      "cell_type": "markdown",
      "source": [
        "**Big-O Gösterimi:**\n",
        "\n",
        "\n",
        "Best case: O(n) → zaten sıralıysa\n",
        "\n",
        "Worst case: O(n^2) → ters sıralıysa\n",
        "\n",
        "Average case: O(n^2)"
      ],
      "metadata": {
        "id": "ibSq2gsH_X3z"
      }
    },
    {
      "cell_type": "markdown",
      "source": [
        "Sıralanmış dizide: [2, 6, 16, 18, 22, 27]\n",
        "\n",
        "18 ortalarda, yani Average Case'e girer"
      ],
      "metadata": {
        "id": "mpadNYIT_gyQ"
      }
    },
    {
      "cell_type": "markdown",
      "source": [
        "**Selection Sort İlk 4 Adım**\n",
        "\n",
        "Aşamalar:\n",
        "\n",
        "Başlangıç: [7, 3, 5, 8, 2, 9, 4, 15, 6]\n",
        "\n",
        "1.adım: En küçük → 2 (index 4)\n",
        "\n",
        "[2, 3, 5, 8, 7, 9, 4, 15, 6]\n",
        "\n",
        "2.adım: (geri kalan [3, 5, 8, 7, 9, 4, 15, 6])\n",
        "\n",
        "En küçük → 3 zaten doğru yerde\n",
        "\n",
        "[2, 3, 5, 8, 7, 9, 4, 15, 6]\n",
        "\n",
        "3.adım: (geri kalan [5, 8, 7, 9, 4, 15, 6])\n",
        "\n",
        "En küçük → 4 (index 6)\n",
        "\n",
        "[2, 3, 4, 8, 7, 9, 5, 15, 6]\n",
        "\n",
        "4.adım: (geri kalan [8, 7, 9, 5, 15, 6])\n",
        "\n",
        "En küçük → 5 (index 6)\n",
        "\n",
        "[2, 3, 4, 5, 7, 9, 8, 15, 6]"
      ],
      "metadata": {
        "id": "TuzSsd_r_0vN"
      }
    },
    {
      "cell_type": "markdown",
      "source": [
        "**Merge Sort- Proje 2**"
      ],
      "metadata": {
        "id": "8jqsDOpmANDM"
      }
    },
    {
      "cell_type": "markdown",
      "source": [
        "[16, 21, 11, 8, 12, 22]\n",
        "\n",
        "↓\n",
        "\n",
        "[16, 21, 11]    [8, 12, 22]\n",
        "\n",
        "↓\n",
        "\n",
        "[16, 21] [11]   [8, 12] [22]\n",
        "\n",
        "↓\n",
        "\n",
        "[16] [21]       [8] [12]\n",
        "\n",
        "↓\n",
        "\n",
        "[16, 21]        [8, 12]\n",
        "\n",
        "↓\n",
        "\n",
        "[11, 16, 21]    [8, 12, 22]\n",
        "\n",
        "↓\n",
        "\n",
        "[8, 11, 12, 16, 21, 22]\n"
      ],
      "metadata": {
        "id": "1doKK8oEAi8y"
      }
    },
    {
      "cell_type": "markdown",
      "source": [
        "**Big-O Gösterimi**\n",
        "\n",
        "Best Case: O(nlogn)\n",
        "\n",
        "Average Case: O(nlogn)\n",
        "\n",
        "Worst Case: O(nlogn)"
      ],
      "metadata": {
        "id": "ZTXkZ1reAwPl"
      }
    },
    {
      "cell_type": "markdown",
      "source": [
        "**Binary Search Tree Projesi - Proje 3**"
      ],
      "metadata": {
        "id": "0WPS70T7A4o9"
      }
    },
    {
      "cell_type": "markdown",
      "source": [
        "1. İlk eleman: 7\n",
        "\n",
        "Root = 7\n",
        "\n",
        "2. Eleman: 5\n",
        "\n",
        "5 < 7 → 5, 7'nin solu\n",
        "\n",
        "3. Eleman: 1\n",
        "\n",
        "1 < 7 → sola git\n",
        "\n",
        "1 < 5 → 1, 5'in solu\n",
        "\n",
        "4. Eleman: 8\n",
        "\n",
        "8 > 7 → 8, 7'nin sağı\n",
        "\n",
        "5. Eleman: 3\n",
        "\n",
        "3 < 7 → sola\n",
        "\n",
        "3 < 5 → sola\n",
        "\n",
        "3 > 1 → 3, 1'in sağı\n",
        "\n",
        "6. Eleman: 6\n",
        "\n",
        "6 < 7 → sola\n",
        "\n",
        "6 > 5 → 6, 5'in sağı\n",
        "\n",
        "7. Eleman: 0\n",
        "\n",
        "0 < 7 → sola\n",
        "\n",
        "0 < 5 → sola\n",
        "\n",
        "0 < 1 → 0, 1'in solu\n",
        "\n",
        "8. Eleman: 9\n",
        "\n",
        "9 > 7 → sağa\n",
        "\n",
        "9 > 8 → 9, 8'in sağı\n",
        "\n",
        "9. Eleman: 4\n",
        "\n",
        "4 < 7 → sola\n",
        "\n",
        "4 < 5 → sola\n",
        "\n",
        "4 > 1 → sağa\n",
        "\n",
        "4 > 3 → 4, 3'ün sağı\n",
        "\n",
        "10. Eleman: 2\n",
        "\n",
        "2 < 7 → sola\n",
        "\n",
        "2 < 5 → sola\n",
        "\n",
        "2 > 1 → sağa\n",
        "\n",
        "2 < 3 → 2, 3'ün solu"
      ],
      "metadata": {
        "id": "osaQr3dkA_Jr"
      }
    }
  ]
}